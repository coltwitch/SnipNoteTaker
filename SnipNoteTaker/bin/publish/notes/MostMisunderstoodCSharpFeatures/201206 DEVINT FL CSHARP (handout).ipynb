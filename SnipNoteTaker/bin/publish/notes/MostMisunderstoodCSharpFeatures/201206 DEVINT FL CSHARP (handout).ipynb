{
 "cells": [
  {
   "cell_type": "code",
   "execution_count": null,
   "metadata": {
    "dotnet_interactive": {
     "language": "csharp"
    }
   },
   "outputs": [],
   "source": [
    "var x = 2;\r\n",
    "return x;"
   ]
  },
  {
   "cell_type": "code",
   "execution_count": null,
   "metadata": {
    "dotnet_interactive": {
     "language": "csharp"
    }
   },
   "outputs": [],
   "source": [
    "return x;"
   ]
  },
  {
   "cell_type": "code",
   "execution_count": null,
   "metadata": {
    "dotnet_interactive": {
     "language": "csharp"
    }
   },
   "outputs": [],
   "source": [
    "var x = 3;\r\n",
    "return x;"
   ]
  },
  {
   "cell_type": "markdown",
   "metadata": {},
   "source": [
    "# CSharp\r\n",
    "\r\n",
    "What is C#? It's a powerful and widely used programming language that you can use to make websites, games, mobile apps, desktop apps and more with .NET. \r\n",
    "\r\n",
    "## Sample\r\n",
    "\r\n",
    "````csharp\r\n",
    "var x = 3;\r\n",
    "return x;\r\n",
    "````"
   ]
  },
  {
   "cell_type": "markdown",
   "metadata": {},
   "source": [
    "## Async Main()"
   ]
  },
  {
   "cell_type": "code",
   "execution_count": null,
   "metadata": {
    "dotnet_interactive": {
     "language": "csharp"
    }
   },
   "outputs": [],
   "source": [
    "using System.Threading.Tasks;\r\n",
    "\r\n",
    "public class Program\r\n",
    "{\r\n",
    "    // invalid\r\n",
    "    static void Main(string[] args) => await Task.CompletedTask;\r\n",
    "\r\n",
    "    // C# 7\r\n",
    "    static async Task Main() => await Task.CompletedTask;\r\n",
    "}\r\n",
    "\r\n",
    "// C# 8\r\n",
    "static async Task Main() => await Task.CompletedTask;"
   ]
  },
  {
   "cell_type": "markdown",
   "metadata": {},
   "source": [
    "# Static directives"
   ]
  },
  {
   "cell_type": "code",
   "execution_count": null,
   "metadata": {
    "dotnet_interactive": {
     "language": "csharp"
    }
   },
   "outputs": [
    {
     "data": {
      "text/plain": "Hello world.\r\n"
     },
     "output_type": "unknown"
    },
    {
     "data": {
      "text/plain": "Hello world.\r\n"
     },
     "output_type": "unknown"
    }
   ],
   "source": [
    "using static System.Console;\r\n",
    "\r\n",
    "// C# 8\r\n",
    "Console.WriteLine(\"Hello world.\");\r\n",
    "\r\n",
    "// C# 9\r\n",
    "WriteLine(\"Hello world.\");"
   ]
  },
  {
   "cell_type": "markdown",
   "metadata": {},
   "source": [
    "# Elaborating Index"
   ]
  },
  {
   "cell_type": "code",
   "execution_count": null,
   "metadata": {
    "dotnet_interactive": {
     "language": "csharp"
    }
   },
   "outputs": [
    {
     "data": {
      "text/plain": "2\r\n"
     },
     "output_type": "unknown"
    },
    {
     "data": {
      "text/plain": "5\r\n"
     },
     "output_type": "unknown"
    },
    {
     "data": {
      "text/plain": "4\r\n"
     },
     "output_type": "unknown"
    }
   ],
   "source": [
    "var list = new [] { 1, 2, 3, 4, 5 };\r\n",
    "\r\n",
    "System.Console.WriteLine(list[1]);\r\n",
    "System.Console.WriteLine(list[^1]);\r\n",
    "System.Console.WriteLine(list[^2]);"
   ]
  },
  {
   "cell_type": "markdown",
   "metadata": {},
   "source": [
    "# Elaborating Range"
   ]
  },
  {
   "cell_type": "code",
   "execution_count": null,
   "metadata": {
    "dotnet_interactive": {
     "language": "csharp"
    }
   },
   "outputs": [
    {
     "data": {
      "text/plain": "1, 2, 3, 4, 5\r\n"
     },
     "output_type": "unknown"
    },
    {
     "data": {
      "text/plain": "1, 2, 3\r\n"
     },
     "output_type": "unknown"
    },
    {
     "data": {
      "text/plain": "4, 5\r\n"
     },
     "output_type": "unknown"
    },
    {
     "data": {
      "text/plain": "3, 4\r\n"
     },
     "output_type": "unknown"
    },
    {
     "data": {
      "text/plain": "2, 3, 4\r\n"
     },
     "output_type": "unknown"
    }
   ],
   "source": [
    "var list = new [] { 1, 2, 3, 4, 5 };\r\n",
    "\r\n",
    "System.Console.WriteLine(string.Join(\", \", list[..]));\r\n",
    "System.Console.WriteLine(string.Join(\", \", list[..3]));\r\n",
    "System.Console.WriteLine(string.Join(\", \", list[3..]));\r\n",
    "System.Console.WriteLine(string.Join(\", \", list[2..4]));\r\n",
    "System.Console.WriteLine(string.Join(\", \", list[1..^1]));\r\n"
   ]
  },
  {
   "cell_type": "markdown",
   "metadata": {},
   "source": [
    "# Default literals"
   ]
  },
  {
   "cell_type": "code",
   "execution_count": null,
   "metadata": {
    "dotnet_interactive": {
     "language": "csharp"
    }
   },
   "outputs": [],
   "source": [
    "// invalid\r\n",
    "public class Van<T> \r\n",
    "{\r\n",
    "    T Driver = null;\r\n",
    "}\r\n",
    "\r\n",
    "// C# 6\r\n",
    "public class Car<T> \r\n",
    "{\r\n",
    "    T Driver = default(T);\r\n",
    "}\r\n",
    "\r\n",
    "// C# 7\r\n",
    "public class Truck<T> \r\n",
    "{\r\n",
    "    T Driver = default;\r\n",
    "}"
   ]
  },
  {
   "cell_type": "markdown",
   "metadata": {},
   "source": [
    "# Nullable Enabled"
   ]
  },
  {
   "cell_type": "code",
   "execution_count": null,
   "metadata": {
    "dotnet_interactive": {
     "language": "csharp"
    }
   },
   "outputs": [
    {
     "data": {
      "text/plain": "Fail\r\n"
     },
     "output_type": "unknown"
    },
    {
     "data": {
      "text/plain": "Value3: \r\n"
     },
     "output_type": "unknown"
    },
    {
     "data": {
      "text/plain": "Fail\r\n"
     },
     "output_type": "unknown"
    }
   ],
   "source": [
    "using static System.Console;\r\n",
    "\r\n",
    "#nullable enable\r\n",
    "\r\n",
    "public class Person { }\r\n",
    "\r\n",
    "// nullable reference type\r\n",
    "Person? person = default;\r\n",
    "\r\n",
    "// no check\r\n",
    "Run(() => WriteLine($\"Value1: {person.ToString()}\"));\r\n",
    "\r\n",
    "// null-check\r\n",
    "Run(() => { if (person is not null) WriteLine($\"Value2: {person.ToString()}\"); }); \r\n",
    "\r\n",
    "// null-conditional operator\r\n",
    "Run(() => WriteLine($\"Value3: {person?.ToString()}\")); \r\n",
    "\r\n",
    "// null-forgiving operator\r\n",
    "Run(() => WriteLine($\"Value4: {person!.ToString()}\")); \r\n",
    "\r\n",
    "void Run(Action action)\r\n",
    "{\r\n",
    "    try { action(); }\r\n",
    "    catch { WriteLine(\"Fail\"); }\r\n",
    "}\r\n",
    "\r\n",
    "#nullable disable"
   ]
  },
  {
   "cell_type": "markdown",
   "metadata": {},
   "source": [
    "# Targeted Type Expressions"
   ]
  },
  {
   "cell_type": "code",
   "execution_count": null,
   "metadata": {
    "dotnet_interactive": {
     "language": "csharp"
    }
   },
   "outputs": [],
   "source": [
    "public class Person \r\n",
    "{ \r\n",
    "    public Person(string name = null) { }\r\n",
    "    public void Do(Person person1, Person person2) { } \r\n",
    "}\r\n",
    "\r\n",
    "// C# 1\r\n",
    "Person p1 = new Person(\"Jerry\");\r\n",
    "\r\n",
    "// C# 3\r\n",
    "var p2 = new Person(\"Jerry\");\r\n",
    "\r\n",
    "// C# 9\r\n",
    "Person p3 = new(\"Jerry\");\r\n",
    "\r\n",
    "p3.Do(new(), new());"
   ]
  },
  {
   "cell_type": "markdown",
   "metadata": {},
   "source": [
    "# Pattern Matching / Null checks"
   ]
  },
  {
   "cell_type": "code",
   "execution_count": null,
   "metadata": {
    "dotnet_interactive": {
     "language": "csharp"
    }
   },
   "outputs": [
    {
     "data": {
      "text/plain": "1 Person canot be null\r\n"
     },
     "output_type": "unknown"
    },
    {
     "data": {
      "text/plain": "2 Person cannot be null.\r\n"
     },
     "output_type": "unknown"
    },
    {
     "data": {
      "text/plain": "3 Person cannot be null\r\n"
     },
     "output_type": "unknown"
    },
    {
     "data": {
      "text/plain": "\r\n"
     },
     "output_type": "unknown"
    }
   ],
   "source": [
    "public interface IPerson { string Name { get; set; } }\r\n",
    "public class Person : IPerson { public string Name { get; set; } }\r\n",
    "\r\n",
    "var person = default(object); //new Person { Name = \"Jerry\" };\r\n",
    "\r\n",
    "// method 1\r\n",
    "\r\n",
    "try \r\n",
    "{\r\n",
    "    var p1 = (IPerson)person;\r\n",
    "    if (p1 == null)\r\n",
    "    {\r\n",
    "        Console.WriteLine(\"1 Person canot be null\");\r\n",
    "    }\r\n",
    "    else\r\n",
    "    {\r\n",
    "        Console.WriteLine(p1.Name);\r\n",
    "    }\r\n",
    "}\r\n",
    "catch \r\n",
    "{\r\n",
    "    Console.WriteLine(\"1 What is this?\"); \r\n",
    "}"
   ]
  },
  {
   "cell_type": "code",
   "execution_count": null,
   "metadata": {
    "dotnet_interactive": {
     "language": "csharp"
    }
   },
   "outputs": [],
   "source": [
    "public interface IPerson { string Name { get; set; } }\r\n",
    "public class Person : IPerson { public string Name { get; set; } }\r\n",
    "\r\n",
    "var person = default(object); //new Person { Name = \"Jerry\" };\r\n",
    "\r\n",
    "// method 2\r\n",
    "\r\n",
    "var p2 = person as IPerson;\r\n",
    "if (p2 is not null) \r\n",
    "{ \r\n",
    "    Console.WriteLine(p2.Name); \r\n",
    "}\r\n",
    "else if (p2 is null) \r\n",
    "{ \r\n",
    "    Console.WriteLine(\"2 Person cannot be null.\"); \r\n",
    "}\r\n",
    "else if (!(person is IPerson)) \r\n",
    "{ \r\n",
    "    Console.WriteLine(\"2 What is this?\"); \r\n",
    "}"
   ]
  },
  {
   "cell_type": "code",
   "execution_count": null,
   "metadata": {
    "dotnet_interactive": {
     "language": "csharp"
    }
   },
   "outputs": [
    {
     "data": {
      "text/plain": "3 Person cannot be null\r\n"
     },
     "output_type": "unknown"
    },
    {
     "data": {
      "text/plain": "\r\n"
     },
     "output_type": "unknown"
    }
   ],
   "source": [
    "public interface IPerson { string Name { get; set; } }\r\n",
    "public class Person : IPerson { public string Name { get; set; } }\r\n",
    "\r\n",
    "var person = default(object); //new Person { Name = \"Jerry\" };\r\n",
    "\r\n",
    "// method 3\r\n",
    "\r\n",
    "if (person is IPerson p3) \r\n",
    "{\r\n",
    "    Console.WriteLine(p3.Name); \r\n",
    "}\r\n",
    "else if (person is null) \r\n",
    "{\r\n",
    "    Console.WriteLine(\"3 Person cannot be null\"); \r\n",
    "}\r\n",
    "else \r\n",
    "{ \r\n",
    "    Console.WriteLine(\"3 What is this?\"); \r\n",
    "}\r\n",
    "\r\n",
    "// scope\r\n",
    "\r\n",
    "Console.WriteLine(p3?.Name);"
   ]
  },
  {
   "cell_type": "markdown",
   "metadata": {},
   "source": [
    "# Default Interface Implementation"
   ]
  },
  {
   "cell_type": "code",
   "execution_count": null,
   "metadata": {
    "dotnet_interactive": {
     "language": "csharp"
    }
   },
   "outputs": [
    {
     "data": {
      "text/plain": "jerry"
     },
     "output_type": "unknown"
    },
    {
     "data": {
      "text/plain": "JERRY"
     },
     "output_type": "unknown"
    }
   ],
   "source": [
    "public interface IHuman1 \r\n",
    "{ \r\n",
    "    string Name { get; set; }\r\n",
    "    void WriteName() => Console.Write(Name.ToLower());\r\n",
    "}\r\n",
    "\r\n",
    "public interface IHuman2 \r\n",
    "{ \r\n",
    "    string Name { get; set; }\r\n",
    "    void WriteName() => Console.Write(Name.ToUpper());\r\n",
    "}\r\n",
    "\r\n",
    "public class Human : IHuman1, IHuman2 \r\n",
    "{\r\n",
    "    public string Name { get; set; }\r\n",
    "}\r\n",
    "\r\n",
    "IHuman1 jerry1 = new Human { Name = \"Jerry\" };\r\n",
    "jerry1.WriteName();\r\n",
    "\r\n",
    "IHuman2 jerry2 = new Human { Name = \"Jerry\" };\r\n",
    "jerry2.WriteName();"
   ]
  },
  {
   "cell_type": "markdown",
   "metadata": {},
   "source": [
    "# Pattern Matching / Relational"
   ]
  },
  {
   "cell_type": "code",
   "execution_count": null,
   "metadata": {
    "dotnet_interactive": {
     "language": "csharp"
    }
   },
   "outputs": [
    {
     "data": {
      "text/plain": "liquid"
     },
     "output_type": "unknown"
    }
   ],
   "source": [
    "return WaterState(123);\r\n",
    "\r\n",
    "string WaterState(int tempInFahrenheit) \r\n",
    "{\r\n",
    "    return tempInFahrenheit switch\r\n",
    "    {\r\n",
    "        (< 32) and (< 31) => \"solid\",\r\n",
    "        32 => \"solid/liquid transition\",\r\n",
    "        < 212 => \"liquid\",\r\n",
    "        212 => \"liquid / gas transition\",\r\n",
    "        _ => \"gas\",\r\n",
    "    };\r\n",
    "}"
   ]
  },
  {
   "cell_type": "markdown",
   "metadata": {},
   "source": [
    "# Pattern Matching / Tuple"
   ]
  },
  {
   "cell_type": "code",
   "execution_count": null,
   "metadata": {
    "dotnet_interactive": {
     "language": "csharp"
    }
   },
   "outputs": [
    {
     "data": {
      "text/plain": "Jerry Nixon\r\n"
     },
     "output_type": "unknown"
    },
    {
     "data": {
      "text/plain": "Jerry, maybe?\r\n"
     },
     "output_type": "unknown"
    },
    {
     "data": {
      "text/plain": "Jerry, maybe?\r\n"
     },
     "output_type": "unknown"
    },
    {
     "data": {
      "text/plain": "Unknown\r\n"
     },
     "output_type": "unknown"
    }
   ],
   "source": [
    "Console.WriteLine(Name(\"Jerry\", \"Nixon\"));\r\n",
    "Console.WriteLine(Name(\"Jerry\", \"Smith\"));\r\n",
    "Console.WriteLine(Name(\"Jimmy\", \"Nixon\"));\r\n",
    "Console.WriteLine(Name(\"Jimmy\", \"Smith\"));\r\n",
    "\r\n",
    "public string Name(string first, string last)\r\n",
    "{\r\n",
    "    return (first, last) switch\r\n",
    "    {\r\n",
    "        (\"Jerry\", \"Nixon\") => \"Jerry Nixon\",\r\n",
    "        (\"Jerry\", _) => \"Jerry, maybe?\",\r\n",
    "        (_, \"Nixon\") => \"Jerry, maybe?\",\r\n",
    "        (_, _) => \"Unknown\"\r\n",
    "    };\r\n",
    "}"
   ]
  },
  {
   "cell_type": "markdown",
   "metadata": {},
   "source": [
    "# Pattern Matching / Property\r\n",
    "And the `When` Keyword"
   ]
  },
  {
   "cell_type": "code",
   "execution_count": null,
   "metadata": {
    "dotnet_interactive": {
     "language": "csharp"
    }
   },
   "outputs": [
    {
     "data": {
      "text/plain": "$0.075\r\n"
     },
     "output_type": "unknown"
    },
    {
     "data": {
      "text/plain": "$0.056\r\n"
     },
     "output_type": "unknown"
    },
    {
     "data": {
      "text/plain": "$0.050\r\n"
     },
     "output_type": "unknown"
    }
   ],
   "source": [
    "using static System.Console;\r\n",
    "\r\n",
    "public class Location\r\n",
    "{\r\n",
    "    public string City;\r\n",
    "    public string State;\r\n",
    "}\r\n",
    "\r\n",
    "WriteLine(LocalTax(new Location { State = \"WA\", City = \"Seattle\" }).ToString(\"C3\"));\r\n",
    "WriteLine(LocalTax(new Location { State = \"CO\", City = \"Denver\" }).ToString(\"C3\"));\r\n",
    "WriteLine(LocalTax(new Location { State = \"CO\" }).ToString(\"C3\"));\r\n",
    "\r\n",
    "public decimal LocalTax(Location location)\r\n",
    "{\r\n",
    "    return location switch\r\n",
    "    {\r\n",
    "        { State: \"WA\", City: \"Seattle\" } => 0.075m,\r\n",
    "        { State: \"CO\", City: \"Denver\" } => 0.056m,\r\n",
    "        { State: \"CO\" } when (location.City != \"Durango\") => 0.05m,\r\n",
    "        _ => throw new ArgumentException(\"Unknown address\")\r\n",
    "    };\r\n",
    "}"
   ]
  },
  {
   "cell_type": "markdown",
   "metadata": {},
   "source": [
    "# Init Keyword\r\n",
    "Init-only property setter"
   ]
  },
  {
   "cell_type": "code",
   "execution_count": null,
   "metadata": {
    "dotnet_interactive": {
     "language": "csharp"
    }
   },
   "outputs": [],
   "source": [
    "public class Person \r\n",
    "{ \r\n",
    "    public Person()\r\n",
    "    {\r\n",
    "        FirstName = \"Jerry\";\r\n",
    "        MiddleName = \"Lee\";\r\n",
    "        LastName = \"Nixon\";\r\n",
    "    }\r\n",
    "\r\n",
    "    public string FirstName { get; init; }\r\n",
    "    public string MiddleName { get; set; }\r\n",
    "    public string LastName { get; }\r\n",
    "}\r\n",
    "\r\n",
    "var person = new Person\r\n",
    "{\r\n",
    "    FirstName = \"Jerry\",\r\n",
    "    MiddleName = \"Lee\",\r\n",
    "    LastName = \"Nixon\",\r\n",
    "};\r\n",
    "\r\n",
    "person.FirstName = \"Jerry\";\r\n",
    "person.MiddleName = \"Lee\";\r\n",
    "person.LastName = \"Nixon\";\r\n"
   ]
  },
  {
   "cell_type": "markdown",
   "metadata": {},
   "source": [
    "# Discards & Deconstrcution"
   ]
  },
  {
   "cell_type": "code",
   "execution_count": null,
   "metadata": {
    "dotnet_interactive": {
     "language": "csharp"
    }
   },
   "outputs": [
    {
     "data": {
      "text/plain": "Jerry\r\n"
     },
     "output_type": "unknown"
    },
    {
     "data": {
      "text/plain": "Lee\r\n"
     },
     "output_type": "unknown"
    },
    {
     "data": {
      "text/plain": "Nixon\r\n"
     },
     "output_type": "unknown"
    }
   ],
   "source": [
    "(string First, string Middle, string Last) x = (\"Jerry\", \"Lee\", \"Nixon\");\r\n",
    "\r\n",
    "Console.WriteLine(x.First);\r\n",
    "\r\n",
    "var (_, Middle, Last) = x;\r\n",
    "\r\n",
    "Console.WriteLine(Middle);\r\n",
    "Console.WriteLine(Last);"
   ]
  },
  {
   "cell_type": "markdown",
   "metadata": {},
   "source": [
    "# Record Types\r\n",
    "Classes in C# 9, structs (or classes) in C# 10"
   ]
  },
  {
   "cell_type": "code",
   "execution_count": null,
   "metadata": {
    "dotnet_interactive": {
     "language": "csharp"
    }
   },
   "outputs": [
    {
     "data": {
      "text/plain": "Person { Name = Jerry }\r\n"
     },
     "output_type": "unknown"
    }
   ],
   "source": [
    "// immutable positional parameters\r\n",
    "\r\n",
    "public record Person(string Name);\r\n",
    "\r\n",
    "Person person = new(\"Jerry\");\r\n",
    "\r\n",
    "// pretty print\r\n",
    "\r\n",
    "Console.WriteLine(person);"
   ]
  },
  {
   "cell_type": "code",
   "execution_count": null,
   "metadata": {
    "dotnet_interactive": {
     "language": "csharp"
    }
   },
   "outputs": [
    {
     "data": {
      "text/plain": "Man { First = Jerry, Last = Nixon }\r\n"
     },
     "output_type": "unknown"
    }
   ],
   "source": [
    "// inheritance with positional parameters\r\n",
    "\r\n",
    "public record Person(string First);\r\n",
    "public record Man(string First, string Last)\r\n",
    " : Person(First);\r\n",
    "\r\n",
    "Man man = new(\"Jerry\", \"Nixon\");\r\n",
    "\r\n",
    "Console.WriteLine(man);"
   ]
  },
  {
   "cell_type": "code",
   "execution_count": null,
   "metadata": {
    "dotnet_interactive": {
     "language": "csharp"
    }
   },
   "outputs": [
    {
     "data": {
      "text/plain": "Jerry\r\n"
     },
     "output_type": "unknown"
    },
    {
     "data": {
      "text/plain": "Person { Name = Jerry }\r\n"
     },
     "output_type": "unknown"
    }
   ],
   "source": [
    "// standard members\r\n",
    "\r\n",
    "public record Person\r\n",
    "{\r\n",
    "    public string Name { get; set; }\r\n",
    "    public event EventHandler Done;\r\n",
    "    public void Do() => Done?.Invoke(this, default);\r\n",
    "}\r\n",
    "\r\n",
    "var person = new Person { Name = \"Jerry\" };\r\n",
    "person.Done += (s, e) => Console.WriteLine(\"Done\");\r\n",
    "person.Do();\r\n",
    "\r\n",
    "Console.WriteLine(person);"
   ]
  },
  {
   "cell_type": "code",
   "execution_count": null,
   "metadata": {
    "dotnet_interactive": {
     "language": "csharp"
    }
   },
   "outputs": [
    {
     "data": {
      "text/plain": "Person { First = Jerry, Last = Nixon }\r\n"
     },
     "output_type": "unknown"
    },
    {
     "data": {
      "text/plain": "Jerry\r\n"
     },
     "output_type": "unknown"
    }
   ],
   "source": [
    "// supports deconstruction\r\n",
    "\r\n",
    "public record Person(string First, string Last);\r\n",
    "\r\n",
    "var jerry  = new Person(\"Jerry\", \"Nixon\");\r\n",
    "var (First, _) = jerry;\r\n",
    "\r\n",
    "Console.WriteLine(jerry);\r\n",
    "Console.WriteLine(First);"
   ]
  },
  {
   "cell_type": "code",
   "execution_count": null,
   "metadata": {
    "dotnet_interactive": {
     "language": "csharp"
    }
   },
   "outputs": [
    {
     "data": {
      "text/plain": "True\r\n"
     },
     "output_type": "unknown"
    },
    {
     "data": {
      "text/plain": "False\r\n"
     },
     "output_type": "unknown"
    },
    {
     "data": {
      "text/plain": "False\r\n"
     },
     "output_type": "unknown"
    }
   ],
   "source": [
    "// built-in icomparable\r\n",
    "\r\n",
    "public record Person(string Name);\r\n",
    "\r\n",
    "var jerry1 = new Person(\"Jerry\");\r\n",
    "var jerry2 = new Person(\"Jerry\");\r\n",
    "var jimmy = new Person(\"Jimmy\");\r\n",
    "\r\n",
    "// value conparison\r\n",
    "Console.WriteLine(jerry1 == jerry2);\r\n",
    "Console.WriteLine(jerry1 == jimmy);\r\n",
    "\r\n",
    "// object comparison\r\n",
    "Console.WriteLine(System.Object.ReferenceEquals(jerry1, jerry2));"
   ]
  },
  {
   "cell_type": "markdown",
   "metadata": {},
   "source": [
    "# With keyword\r\n",
    "\r\n",
    "Non-destructive mutation"
   ]
  },
  {
   "cell_type": "code",
   "execution_count": null,
   "metadata": {
    "dotnet_interactive": {
     "language": "csharp"
    }
   },
   "outputs": [
    {
     "data": {
      "text/plain": "Person { First = Jerry, Last = Nixon }\r\n"
     },
     "output_type": "unknown"
    },
    {
     "data": {
      "text/plain": "Person { First = Jimmy, Last = Nixon }\r\n"
     },
     "output_type": "unknown"
    }
   ],
   "source": [
    "public record Person(string First, string Last);\r\n",
    "\r\n",
    "var jerry = new Person(\"Jerry\", \"Nixon\");\r\n",
    "Console.WriteLine(jerry);\r\n",
    "\r\n",
    "var jimmy = jerry with { First = \"Jimmy\" };\r\n",
    "Console.WriteLine(jimmy);"
   ]
  },
  {
   "cell_type": "markdown",
   "metadata": {},
   "source": [
    "# Yield keyword"
   ]
  },
  {
   "cell_type": "code",
   "execution_count": null,
   "metadata": {
    "dotnet_interactive": {
     "language": "csharp"
    }
   },
   "outputs": [
    {
     "data": {
      "text/plain": "1\r\n"
     },
     "output_type": "unknown"
    },
    {
     "data": {
      "text/plain": "2\r\n"
     },
     "output_type": "unknown"
    },
    {
     "data": {
      "text/plain": "3\r\n"
     },
     "output_type": "unknown"
    },
    {
     "data": {
      "text/plain": "4\r\n"
     },
     "output_type": "unknown"
    },
    {
     "data": {
      "text/plain": "5\r\n"
     },
     "output_type": "unknown"
    }
   ],
   "source": [
    "foreach (var item in GetData())\r\n",
    "{\r\n",
    "    Console.WriteLine(item);\r\n",
    "}\r\n",
    "\r\n",
    "public IEnumerable<int> GetData()\r\n",
    "{\r\n",
    "    var list = new List<int>();\r\n",
    "    foreach (var item in Enumerable.Range(1, 5))\r\n",
    "    {\r\n",
    "        list.Add(item);\r\n",
    "    }\r\n",
    "    return list;\r\n",
    "}"
   ]
  },
  {
   "cell_type": "code",
   "execution_count": null,
   "metadata": {
    "dotnet_interactive": {
     "language": "csharp"
    }
   },
   "outputs": [
    {
     "data": {
      "text/plain": "1\r\n"
     },
     "output_type": "unknown"
    },
    {
     "data": {
      "text/plain": "2\r\n"
     },
     "output_type": "unknown"
    },
    {
     "data": {
      "text/plain": "3\r\n"
     },
     "output_type": "unknown"
    },
    {
     "data": {
      "text/plain": "4\r\n"
     },
     "output_type": "unknown"
    },
    {
     "data": {
      "text/plain": "5\r\n"
     },
     "output_type": "unknown"
    }
   ],
   "source": [
    "foreach (var item in GetData())\r\n",
    "{\r\n",
    "    Console.WriteLine(item);\r\n",
    "}\r\n",
    "\r\n",
    "public IEnumerable<int> GetData()\r\n",
    "{\r\n",
    "    foreach (var item in Enumerable.Range(1, 5))\r\n",
    "    {\r\n",
    "        yield return item;\r\n",
    "    }\r\n",
    "}"
   ]
  },
  {
   "cell_type": "code",
   "execution_count": null,
   "metadata": {
    "dotnet_interactive": {
     "language": "csharp"
    }
   },
   "outputs": [
    {
     "data": {
      "application/x.notebook.error-traceback": {
       "ename": "Error",
       "evalue": "(12,9): error CS4032: The 'await' operator can only be used within an async method. Consider marking this method with the 'async' modifier and changing its return type to 'Task<IEnumerable<int>>'.",
       "traceback": []
      }
     },
     "output_type": "unknown"
    }
   ],
   "source": [
    "// does not support async\r\n",
    "\r\n",
    "foreach (var item in GetData())\r\n",
    "{\r\n",
    "    Console.WriteLine(item);\r\n",
    "}\r\n",
    "\r\n",
    "public IEnumerable<int> GetData()\r\n",
    "{\r\n",
    "    foreach (var item in Enumerable.Range(1, 5))\r\n",
    "    {\r\n",
    "        await Task.Delay(1000);\r\n",
    "        yield return item;\r\n",
    "    }\r\n",
    "}"
   ]
  },
  {
   "cell_type": "markdown",
   "metadata": {},
   "source": [
    "# IAsyncEnumerable<T>"
   ]
  },
  {
   "cell_type": "code",
   "execution_count": null,
   "metadata": {
    "dotnet_interactive": {
     "language": "csharp"
    }
   },
   "outputs": [
    {
     "data": {
      "text/plain": "1\r\n"
     },
     "output_type": "unknown"
    },
    {
     "data": {
      "text/plain": "2\r\n"
     },
     "output_type": "unknown"
    },
    {
     "data": {
      "text/plain": "3\r\n"
     },
     "output_type": "unknown"
    },
    {
     "data": {
      "text/plain": "4\r\n"
     },
     "output_type": "unknown"
    },
    {
     "data": {
      "text/plain": "5\r\n"
     },
     "output_type": "unknown"
    }
   ],
   "source": [
    "using System;\r\n",
    "\r\n",
    "await foreach (var item in GetDataAsync())\r\n",
    "{\r\n",
    "    Console.WriteLine(item);\r\n",
    "}\r\n",
    "\r\n",
    "public async IAsyncEnumerable<int> GetDataAsync()\r\n",
    "{\r\n",
    "    foreach (var item in Enumerable.Range(1, 5))\r\n",
    "    {\r\n",
    "        await Task.Delay(10);\r\n",
    "        yield return item;\r\n",
    "    }\r\n",
    "}"
   ]
  },
  {
   "cell_type": "markdown",
   "metadata": {},
   "source": [
    "# IEnumerable risks"
   ]
  },
  {
   "cell_type": "code",
   "execution_count": null,
   "metadata": {
    "dotnet_interactive": {
     "language": "csharp"
    }
   },
   "outputs": [
    {
     "data": {
      "text/plain": "Work\r\n"
     },
     "output_type": "unknown"
    },
    {
     "data": {
      "text/plain": "Jerry\r\n"
     },
     "output_type": "unknown"
    },
    {
     "data": {
      "text/plain": "Work\r\n"
     },
     "output_type": "unknown"
    },
    {
     "data": {
      "text/plain": "Jerry\r\n"
     },
     "output_type": "unknown"
    },
    {
     "data": {
      "text/plain": "Work\r\n"
     },
     "output_type": "unknown"
    },
    {
     "data": {
      "text/plain": "Jerry\r\n"
     },
     "output_type": "unknown"
    },
    {
     "data": {
      "text/plain": "Work\r\n"
     },
     "output_type": "unknown"
    },
    {
     "data": {
      "text/plain": "Nixon\r\n"
     },
     "output_type": "unknown"
    },
    {
     "data": {
      "text/plain": "Nixon\r\n"
     },
     "output_type": "unknown"
    },
    {
     "data": {
      "text/plain": "Nixon\r\n"
     },
     "output_type": "unknown"
    }
   ],
   "source": [
    "IEnumerable<string> Get(string value)\r\n",
    "{\r\n",
    "    Console.WriteLine(\"Work\");\r\n",
    "    yield return value;\r\n",
    "}\r\n",
    "\r\n",
    "var items = Get(\"Jerry\");\r\n",
    "\r\n",
    "items.ToList().ForEach(x => Console.WriteLine(x));\r\n",
    "items.ToList().ForEach(x => Console.WriteLine(x));\r\n",
    "items.ToList().ForEach(x => Console.WriteLine(x));\r\n",
    "\r\n",
    "items = Get(\"Nixon\").ToArray();\r\n",
    "\r\n",
    "items.ToList().ForEach(x => Console.WriteLine(x));\r\n",
    "items.ToList().ForEach(x => Console.WriteLine(x));\r\n",
    "items.ToList().ForEach(x => Console.WriteLine(x));"
   ]
  },
  {
   "cell_type": "markdown",
   "metadata": {},
   "source": [
    "# Concurrent, Parallel tasks \r\n",
    "Concurrent tasks can occur in any order."
   ]
  },
  {
   "cell_type": "code",
   "execution_count": null,
   "metadata": {
    "dotnet_interactive": {
     "language": "csharp"
    }
   },
   "outputs": [
    {
     "data": {
      "text/plain": "100"
     },
     "output_type": "unknown"
    },
    {
     "data": {
      "text/plain": "2"
     },
     "output_type": "unknown"
    },
    {
     "data": {
      "text/plain": "300"
     },
     "output_type": "unknown"
    },
    {
     "data": {
      "text/plain": "4"
     },
     "output_type": "unknown"
    },
    {
     "data": {
      "text/plain": "500"
     },
     "output_type": "unknown"
    },
    {
     "data": {
      "text/plain": "6"
     },
     "output_type": "unknown"
    },
    {
     "data": {
      "text/plain": "700"
     },
     "output_type": "unknown"
    },
    {
     "data": {
      "text/plain": "8"
     },
     "output_type": "unknown"
    },
    {
     "data": {
      "text/plain": "900"
     },
     "output_type": "unknown"
    },
    {
     "data": {
      "text/plain": "00:00:02.5881605\r\n"
     },
     "output_type": "unknown"
    },
    {
     "data": {
      "text/plain": "----------------------------------------------------------------------------------------------------\r\n"
     },
     "output_type": "unknown"
    },
    {
     "data": {
      "text/plain": "4"
     },
     "output_type": "unknown"
    },
    {
     "data": {
      "text/plain": "2"
     },
     "output_type": "unknown"
    },
    {
     "data": {
      "text/plain": "6"
     },
     "output_type": "unknown"
    },
    {
     "data": {
      "text/plain": "8"
     },
     "output_type": "unknown"
    },
    {
     "data": {
      "text/plain": "100"
     },
     "output_type": "unknown"
    },
    {
     "data": {
      "text/plain": "300"
     },
     "output_type": "unknown"
    },
    {
     "data": {
      "text/plain": "500"
     },
     "output_type": "unknown"
    },
    {
     "data": {
      "text/plain": "700"
     },
     "output_type": "unknown"
    },
    {
     "data": {
      "text/plain": "900"
     },
     "output_type": "unknown"
    },
    {
     "data": {
      "text/plain": "00:00:00.9108004\r\n"
     },
     "output_type": "unknown"
    }
   ],
   "source": [
    "var tasks = new[]{ 100, 2, 300, 4, 500, 6, 700, 8, 900 }\r\n",
    "    .Select(x => new Action(() => \r\n",
    "    {\r\n",
    "        System.Threading.Thread.Sleep(x);\r\n",
    "        Console.Write(x);\r\n",
    "    }));\r\n",
    "\r\n",
    "// standard foreach \r\n",
    "Wrap(() => tasks.ToList().ForEach(x => x()));\r\n",
    "\r\n",
    "Console.WriteLine(new string('-', 100));\r\n",
    "\r\n",
    "// parallel foreach\r\n",
    "Wrap(() => Parallel.ForEach(tasks, x => x()));\r\n",
    "\r\n",
    "void Wrap(Action action)\r\n",
    "{\r\n",
    "    var sw = new System.Diagnostics.Stopwatch();\r\n",
    "    sw.Start();\r\n",
    "    action();\r\n",
    "    Console.WriteLine(sw.Elapsed);\r\n",
    "}"
   ]
  },
  {
   "cell_type": "markdown",
   "metadata": {},
   "source": [
    "# Copying structs risk"
   ]
  },
  {
   "cell_type": "code",
   "execution_count": null,
   "metadata": {
    "dotnet_interactive": {
     "language": "csharp"
    }
   },
   "outputs": [
    {
     "data": {
      "text/plain": "Jimmy"
     },
     "output_type": "unknown"
    },
    {
     "data": {
      "text/plain": "Jimmy"
     },
     "output_type": "unknown"
    }
   ],
   "source": [
    "record Person \r\n",
    "{ \r\n",
    "    public string Name { get; set; } \r\n",
    "}\r\n",
    "\r\n",
    "var jerry = new Person { Name = \"Jerry\" };\r\n",
    "var jimmy  = jerry;\r\n",
    "jimmy.Name = \"Jimmy\";\r\n",
    "\r\n",
    "Console.Write(jerry.Name);\r\n",
    "Console.Write(jimmy.Name);"
   ]
  },
  {
   "cell_type": "code",
   "execution_count": null,
   "metadata": {
    "dotnet_interactive": {
     "language": "csharp"
    }
   },
   "outputs": [],
   "source": [
    "struct Person \r\n",
    "{\r\n",
    "    public string Name { get; set; } \r\n",
    "}\r\n",
    "\r\n",
    "var jerry = new Person { Name = \"Jerry\" };\r\n",
    "var jimmy  = jerry;\r\n",
    "jimmy.Name = \"Jimmy\";\r\n",
    "\r\n",
    "Console.Write(jerry.Name);\r\n",
    "Console.Write(jimmy.Name);"
   ]
  },
  {
   "cell_type": "code",
   "execution_count": null,
   "metadata": {
    "dotnet_interactive": {
     "language": "csharp"
    }
   },
   "outputs": [
    {
     "data": {
      "text/plain": "Jerry"
     },
     "output_type": "unknown"
    },
    {
     "data": {
      "text/plain": "Jimmy"
     },
     "output_type": "unknown"
    }
   ],
   "source": [
    "// ref structs don't get copied\r\n",
    "\r\n",
    "ref struct Person \r\n",
    "{ \r\n",
    "    public string Name { get; set; } \r\n",
    "}\r\n",
    "\r\n",
    "void Do()\r\n",
    "{\r\n",
    "    var jerry = new Person { Name = \"Jerry\" };\r\n",
    "    var jimmy = jerry;\r\n",
    "    jimmy.Name = \"Jimmy\";\r\n",
    "\r\n",
    "    Console.Write(jerry.Name);\r\n",
    "    Console.Write(jimmy.Name);\r\n",
    "}\r\n",
    "\r\n",
    "Do();"
   ]
  },
  {
   "cell_type": "markdown",
   "metadata": {},
   "source": [
    "# Copying strings risks"
   ]
  },
  {
   "cell_type": "code",
   "execution_count": null,
   "metadata": {
    "dotnet_interactive": {
     "language": "csharp"
    }
   },
   "outputs": [],
   "source": [
    "var first = \"Jerry\";\r\n",
    "var middle = \"Lee\";\r\n",
    "var last = \"Nixon\";\r\n",
    "\r\n",
    "var a = first + middle + last;\r\n",
    "\r\n",
    "var b = string.Concat(first, middle, last);\r\n",
    "\r\n",
    "var c = $\"{first}{middle}{last}\";\r\n",
    "\r\n",
    "var sb = new StringBuilder();\r\n",
    "sb.Append(first);\r\n",
    "sb.Append(middle);\r\n",
    "sb.Append(last);\r\n",
    "\r\n",
    "var d = sb.ToString();"
   ]
  },
  {
   "cell_type": "markdown",
   "metadata": {},
   "source": [
    "# Rethrowing exceptions"
   ]
  },
  {
   "cell_type": "code",
   "execution_count": null,
   "metadata": {
    "dotnet_interactive": {
     "language": "csharp"
    }
   },
   "outputs": [
    {
     "data": {
      "application/x.notebook.error-traceback": {
       "ename": "Error",
       "evalue": "System.Exception: Jerry\r\n   at Submission#24.<<Initialize>>d__0.MoveNext()\r\n--- End of stack trace from previous location ---\r\n   at Microsoft.CodeAnalysis.Scripting.ScriptExecutionState.RunSubmissionsAsync[TResult](ImmutableArray`1 precedingExecutors, Func`2 currentExecutor, StrongBox`1 exceptionHolderOpt, Func`2 catchExceptionOpt, CancellationToken cancellationToken)",
       "traceback": []
      }
     },
     "output_type": "unknown"
    }
   ],
   "source": [
    "void Do() => throw new Exception(\"Jerry\");\r\n",
    "\r\n",
    "try { Do(); }\r\n",
    "catch (Exception ex)\r\n",
    "{\r\n",
    "    throw ex;\r\n",
    "}"
   ]
  },
  {
   "cell_type": "code",
   "execution_count": null,
   "metadata": {
    "dotnet_interactive": {
     "language": "csharp"
    }
   },
   "outputs": [
    {
     "data": {
      "application/x.notebook.error-traceback": {
       "ename": "Error",
       "evalue": "System.Exception: Jerry\r\n   at Submission#25.Do()\r\n   at Submission#25.<<Initialize>>d__0.MoveNext()\r\n--- End of stack trace from previous location ---\r\n   at Microsoft.CodeAnalysis.Scripting.ScriptExecutionState.RunSubmissionsAsync[TResult](ImmutableArray`1 precedingExecutors, Func`2 currentExecutor, StrongBox`1 exceptionHolderOpt, Func`2 catchExceptionOpt, CancellationToken cancellationToken)",
       "traceback": []
      }
     },
     "output_type": "unknown"
    }
   ],
   "source": [
    "void Do() => throw new Exception(\"Jerry\");\r\n",
    "\r\n",
    "try { Do(); }\r\n",
    "catch \r\n",
    "{\r\n",
    "    throw;\r\n",
    "}"
   ]
  },
  {
   "cell_type": "markdown",
   "metadata": {},
   "source": [
    "# Exceptions in static constructors risk"
   ]
  },
  {
   "cell_type": "code",
   "execution_count": null,
   "metadata": {
    "dotnet_interactive": {
     "language": "csharp"
    }
   },
   "outputs": [
    {
     "data": {
      "text/plain": "Jerry\r\n"
     },
     "output_type": "unknown"
    },
    {
     "data": {
      "application/x.notebook.error-traceback": {
       "ename": "Error",
       "evalue": "System.TypeInitializationException: The type initializer for 'Person' threw an exception.\r\n ---> System.NotImplementedException: The method or operation is not implemented.\r\n   at Submission#55.Person..cctor()\r\n   --- End of inner exception stack trace ---\r\n   at Submission#55.Person..ctor()\r\n   at Submission#55.<<Initialize>>d__0.MoveNext()\r\n--- End of stack trace from previous location ---\r\n   at Microsoft.CodeAnalysis.Scripting.ScriptExecutionState.RunSubmissionsAsync[TResult](ImmutableArray`1 precedingExecutors, Func`2 currentExecutor, StrongBox`1 exceptionHolderOpt, Func`2 catchExceptionOpt, CancellationToken cancellationToken)",
       "traceback": []
      }
     },
     "output_type": "unknown"
    }
   ],
   "source": [
    "public class Person\r\n",
    "{\r\n",
    "    static Person() => throw new NotImplementedException();\r\n",
    "}\r\n",
    "\r\n",
    "Console.WriteLine(\"Jerry\");\r\n",
    "var person = new Person();"
   ]
  },
  {
   "cell_type": "markdown",
   "metadata": {},
   "source": [
    "# Linq: First() v. Single() (& Default)"
   ]
  },
  {
   "cell_type": "code",
   "execution_count": null,
   "metadata": {
    "dotnet_interactive": {
     "language": "csharp"
    }
   },
   "outputs": [
    {
     "data": {
      "text/plain": "Key: 1\r\n"
     },
     "output_type": "unknown"
    },
    {
     "data": {
      "text/plain": "1\r\n"
     },
     "output_type": "unknown"
    },
    {
     "data": {
      "text/plain": "1\r\n"
     },
     "output_type": "unknown"
    },
    {
     "data": {
      "text/plain": "1\r\n"
     },
     "output_type": "unknown"
    },
    {
     "data": {
      "text/plain": "1\r\n"
     },
     "output_type": "unknown"
    },
    {
     "data": {
      "text/plain": "Key: 2\r\n"
     },
     "output_type": "unknown"
    },
    {
     "data": {
      "text/plain": "2\r\n"
     },
     "output_type": "unknown"
    },
    {
     "data": {
      "text/plain": "2\r\n"
     },
     "output_type": "unknown"
    },
    {
     "data": {
      "text/plain": "Sequence contains more than one matching element\r\n"
     },
     "output_type": "unknown"
    },
    {
     "data": {
      "text/plain": "Sequence contains more than one matching element\r\n"
     },
     "output_type": "unknown"
    },
    {
     "data": {
      "text/plain": "Key: 6\r\n"
     },
     "output_type": "unknown"
    },
    {
     "data": {
      "text/plain": "Sequence contains no matching element\r\n"
     },
     "output_type": "unknown"
    },
    {
     "data": {
      "text/plain": "0\r\n"
     },
     "output_type": "unknown"
    },
    {
     "data": {
      "text/plain": "Sequence contains no matching element\r\n"
     },
     "output_type": "unknown"
    },
    {
     "data": {
      "text/plain": "0\r\n"
     },
     "output_type": "unknown"
    }
   ],
   "source": [
    "var list = new[] { 1, 2, 2, 3, 3, 4, 4, 5, 5 };\r\n",
    "\r\n",
    "foreach (var key in new[] {1, 2, 6})\r\n",
    "{\r\n",
    "    Console.WriteLine($\"Key: {key}\");\r\n",
    "    Write(() => list.First(x => x == key));\r\n",
    "    Write(() => list.FirstOrDefault(x => x == key));\r\n",
    "    Write(() => list.Single(x => x == key));\r\n",
    "    Write(() => list.SingleOrDefault(x => x == key));\r\n",
    "}\r\n",
    "\r\n",
    "void Write(Func<object> func)\r\n",
    "{\r\n",
    "    try\r\n",
    "    {\r\n",
    "        Console.WriteLine(func());\r\n",
    "    }\r\n",
    "    catch (Exception ex)\r\n",
    "    {\r\n",
    "        Console.WriteLine(ex.Message);\r\n",
    "    }\r\n",
    "}"
   ]
  },
  {
   "cell_type": "markdown",
   "metadata": {},
   "source": [
    "# Linq: Any() v. Count()"
   ]
  },
  {
   "cell_type": "code",
   "execution_count": null,
   "metadata": {
    "dotnet_interactive": {
     "language": "csharp"
    }
   },
   "outputs": [
    {
     "data": {
      "text/plain": "True\r\n"
     },
     "output_type": "unknown"
    },
    {
     "data": {
      "text/plain": "00:00:00.0008436\r\n"
     },
     "output_type": "unknown"
    },
    {
     "data": {
      "text/plain": "True\r\n"
     },
     "output_type": "unknown"
    },
    {
     "data": {
      "text/plain": "00:00:00.2883512\r\n"
     },
     "output_type": "unknown"
    }
   ],
   "source": [
    "var s = new System.Diagnostics.Stopwatch();\r\n",
    "\r\n",
    "public static IEnumerable<Guid> _list = Enumerable.Range(0, 1_000_000).Select(x => Guid.NewGuid());\r\n",
    "\r\n",
    "s.Start();\r\n",
    "Console.WriteLine(_list.Any());\r\n",
    "Console.WriteLine(s.Elapsed);\r\n",
    "\r\n",
    "s.Start();\r\n",
    "Console.WriteLine(_list.Count() > 0);\r\n",
    "Console.WriteLine(s.Elapsed);"
   ]
  },
  {
   "cell_type": "markdown",
   "metadata": {},
   "source": [
    "# Semaphore v. ManualResetEvent v. Channel "
   ]
  },
  {
   "cell_type": "code",
   "execution_count": null,
   "metadata": {
    "dotnet_interactive": {
     "language": "csharp"
    }
   },
   "outputs": [
    {
     "data": {
      "text/plain": "SHOULD ALWAYS BE FIRST.\r\n"
     },
     "output_type": "unknown"
    },
    {
     "data": {
      "text/plain": "SHOULD ALWAYS BE LAST.\r\n"
     },
     "output_type": "unknown"
    }
   ],
   "source": [
    "SemaphoreSlim _semaphore1 = new(0);\r\n",
    "\r\n",
    "public void FirstMethod()\r\n",
    "{\r\n",
    "    Console.WriteLine(\"SHOULD ALWAYS BE FIRST.\");\r\n",
    "    _semaphore1.Release();\r\n",
    "}\r\n",
    "\r\n",
    "public void SecondMethod()\r\n",
    "{\r\n",
    "    _semaphore1.Wait();\r\n",
    "    Console.WriteLine(\"SHOULD ALWAYS BE LAST.\");\r\n",
    "}\r\n",
    "\r\n",
    "var tasks = new []\r\n",
    "{\r\n",
    "    Task.Run(() => FirstMethod()),\r\n",
    "    Task.Run(() => SecondMethod()),\r\n",
    "};\r\n",
    "\r\n",
    "await Task.WhenAll(tasks.OrderBy(x => Guid.NewGuid()));"
   ]
  },
  {
   "cell_type": "code",
   "execution_count": null,
   "metadata": {
    "dotnet_interactive": {
     "language": "csharp"
    }
   },
   "outputs": [
    {
     "data": {
      "text/plain": "SHOULD ALWAYS BE FIRST.\r\n"
     },
     "output_type": "unknown"
    },
    {
     "data": {
      "text/plain": "SHOULD ALWAYS BE LAST.\r\n"
     },
     "output_type": "unknown"
    }
   ],
   "source": [
    "// Theading ManualResetEvent\r\n",
    "\r\n",
    "var e = new System.Threading.ManualResetEvent(false);\r\n",
    "\r\n",
    "void FirstMethod()\r\n",
    "{\r\n",
    "    Console.WriteLine(\"SHOULD ALWAYS BE FIRST.\");\r\n",
    "    e.Set();\r\n",
    "}\r\n",
    "\r\n",
    "void SecondMethod()\r\n",
    "{\r\n",
    "    e.WaitOne();\r\n",
    "    Console.WriteLine(\"SHOULD ALWAYS BE LAST.\");\r\n",
    "}\r\n",
    "\r\n",
    "var tasks = new[]\r\n",
    "{\r\n",
    "    Task.Run(() => FirstMethod()),\r\n",
    "    Task.Run(() => SecondMethod()),\r\n",
    "};\r\n",
    "\r\n",
    "await Task.WhenAll(tasks.OrderBy(x => Guid.NewGuid()));"
   ]
  },
  {
   "cell_type": "code",
   "execution_count": null,
   "metadata": {
    "dotnet_interactive": {
     "language": "csharp"
    }
   },
   "outputs": [
    {
     "data": {
      "text/plain": "Jerry\r\n"
     },
     "output_type": "unknown"
    },
    {
     "data": {
      "text/plain": "Nixon\r\n"
     },
     "output_type": "unknown"
    },
    {
     "data": {
      "text/plain": "SHOULD ALWAYS BE LAST.\r\n"
     },
     "output_type": "unknown"
    }
   ],
   "source": [
    "// threading channel\r\n",
    "\r\n",
    "using System.Collections.Concurrent;\r\n",
    "using System.Threading.Channels;\r\n",
    "\r\n",
    "var ch = Channel.CreateUnbounded<string>();\r\n",
    "\r\n",
    "async Task FirstMethod(string value) \r\n",
    "{ \r\n",
    "    await ch.Writer.WriteAsync(value); \r\n",
    "}\r\n",
    "\r\n",
    "async Task SecondMethod()\r\n",
    "{\r\n",
    "    while (await ch.Reader.WaitToReadAsync())\r\n",
    "        Console.WriteLine(await ch.Reader.ReadAsync());\r\n",
    "    Console.WriteLine(\"SHOULD ALWAYS BE LAST.\");\r\n",
    "}\r\n",
    "\r\n",
    "async Task StopAsync(int milliseconds)\r\n",
    "{\r\n",
    "    await Task.Delay(milliseconds);\r\n",
    "    ch.Writer.Complete();\r\n",
    "}\r\n",
    "\r\n",
    "var tasks = new []\r\n",
    "{\r\n",
    "    FirstMethod(\"Jerry\"),\r\n",
    "    FirstMethod(\"Nixon\"),\r\n",
    "    SecondMethod(),\r\n",
    "    StopAsync(1000),\r\n",
    "};\r\n",
    "\r\n",
    "await Task.WhenAll(tasks.OrderBy(x => Guid.NewGuid()));"
   ]
  },
  {
   "cell_type": "markdown",
   "metadata": {},
   "source": [
    "# ReadOnlyList versus ImmutableList\r\n",
    "https://docs.microsoft.com/en-us/archive/blogs/bclteam/preview-of-immutable-collections-released-on-nuget"
   ]
  },
  {
   "cell_type": "code",
   "execution_count": null,
   "metadata": {
    "dotnet_interactive": {
     "language": "csharp"
    }
   },
   "outputs": [
    {
     "data": {
      "text/plain": "2\r\n"
     },
     "output_type": "unknown"
    },
    {
     "data": {
      "text/plain": "0\r\n"
     },
     "output_type": "unknown"
    }
   ],
   "source": [
    "var original = new List<string>(new[] { \"Jerry\", \"Nixon\" });\r\n",
    "\r\n",
    "var list = original.AsReadOnly();\r\n",
    "Console.WriteLine(list.Count());\r\n",
    "\r\n",
    "original.Clear();\r\n",
    "Console.WriteLine(list.Count());"
   ]
  },
  {
   "cell_type": "code",
   "execution_count": null,
   "metadata": {
    "dotnet_interactive": {
     "language": "csharp"
    }
   },
   "outputs": [
    {
     "data": {
      "text/plain": "2\r\n"
     },
     "output_type": "unknown"
    },
    {
     "data": {
      "text/plain": "2\r\n"
     },
     "output_type": "unknown"
    }
   ],
   "source": [
    "var original = new List<string>(new[] { \"Jerry\", \"Nixon\" });\r\n",
    "\r\n",
    "var list = System.Collections.Immutable.ImmutableList<string>.Empty.AddRange(original);\r\n",
    "Console.WriteLine(list.Count());\r\n",
    "\r\n",
    "original.Clear();\r\n",
    "Console.WriteLine(list.Count());"
   ]
  },
  {
   "cell_type": "markdown",
   "metadata": {},
   "source": [
    "# Task.GetAwaiter() v. Wait()"
   ]
  },
  {
   "cell_type": "code",
   "execution_count": null,
   "metadata": {
    "dotnet_interactive": {
     "language": "csharp"
    }
   },
   "outputs": [
    {
     "data": {
      "text/plain": "System.AggregateException: One or more errors occurred. (The method or operation is not implemented.)\r\n ---> System.NotImplementedException: The method or operation is not implemented.\r\n   at Submission#37.Person.Do()\r\n   at Submission#37.Person.DoAsync()\r\n   --- End of inner exception stack trace ---\r\n   at System.Threading.Tasks.Task.Wait(Int32 millisecondsTimeout, CancellationToken cancellationToken)\r\n   at System.Threading.Tasks.Task.Wait()\r\n   at Submission#37.<<Initialize>>d__0.MoveNext()"
     },
     "output_type": "unknown"
    },
    {
     "data": {
      "text/plain": "System.NotImplementedException: The method or operation is not implemented.\r\n   at Submission#37.Person.Do()\r\n   at Submission#37.Person.DoAsync()\r\n   at Submission#37.<<Initialize>>d__0.MoveNext()"
     },
     "output_type": "unknown"
    }
   ],
   "source": [
    "public record Person\r\n",
    "{\r\n",
    "    public async Task DoAsync() => Do();\r\n",
    "    private void Do() => throw new NotImplementedException();\r\n",
    "};\r\n",
    "\r\n",
    "Person person = new();\r\n",
    "\r\n",
    "try\r\n",
    "{\r\n",
    "    person.DoAsync().Wait();\r\n",
    "}\r\n",
    "catch (Exception ex)\r\n",
    "{\r\n",
    "    Console.Write(ex);\r\n",
    "}\r\n",
    "\r\n",
    "try\r\n",
    "{\r\n",
    "    person.DoAsync().GetAwaiter().GetResult();\r\n",
    "}\r\n",
    "catch (Exception ex)\r\n",
    "{\r\n",
    "    Console.Write(ex);\r\n",
    "}"
   ]
  },
  {
   "cell_type": "markdown",
   "metadata": {},
   "source": [
    "# Task v. ValueTask"
   ]
  },
  {
   "cell_type": "code",
   "execution_count": null,
   "metadata": {
    "dotnet_interactive": {
     "language": "csharp"
    }
   },
   "outputs": [],
   "source": [
    "private string _cachedToken = null;\r\n",
    "\r\n",
    "public async ValueTask<string> GetTokenAsync()\r\n",
    "{\r\n",
    "    return _cachedToken ?? (_cachedToken = await httpClient.GetTokenAsync());\r\n",
    "}\r\n",
    "\r\n",
    "public async Task<string> SendThisAsync(This payload)\r\n",
    "{\r\n",
    "    return await httpClient.PostAsync(await GetTokenAsync(), payload);\r\n",
    "}\r\n",
    "\r\n",
    "public async Task<string> SendThatAsync(That payload)\r\n",
    "{\r\n",
    "    return await httpClient.PostAsync(await GetTokenAsync(), payload);\r\n",
    "}"
   ]
  },
  {
   "cell_type": "code",
   "execution_count": null,
   "metadata": {
    "dotnet_interactive": {
     "language": "csharp"
    }
   },
   "outputs": [],
   "source": [
    "public record This;\r\n",
    "public record That;\r\n",
    "\r\n",
    "public static class httpClient\r\n",
    "{\r\n",
    "    public static Task<string> GetTokenAsync() => Task.FromResult(string.Empty);\r\n",
    "    public static Task<string> PostAsync(string token, This payload) => Task.FromResult(string.Empty);\r\n",
    "    public static Task<string> PostAsync(string token, That payload) => Task.FromResult(string.Empty);\r\n",
    "}"
   ]
  },
  {
   "cell_type": "markdown",
   "metadata": {},
   "source": [
    "# Review\r\n",
    "1. Static Directives\r\n",
    "1. Elaborating Index\r\n",
    "1. Elaborating Range\r\n",
    "1. Default Literals\r\n",
    "1. Nullable Enabled\r\n",
    "1. Targeted Type Expressions with `new()`\r\n",
    "1. Pattern Matching (Type, Property, Relational)\r\n",
    "1. `Init` Keyword\r\n",
    "1. Discards \r\n",
    "1. Deconstruction\r\n",
    "1. `Record` Types\r\n",
    "1. `With` Keyword\r\n",
    "1. `Yield` Return Keyword\r\n",
    "1. `IAsyncEnumerable` Methods\r\n",
    "1. IEnumerable risks\r\n",
    "1. Concurrent v. Parallel\r\n",
    "1. Copying structs\r\n",
    "1. Rethrowing exceptions\r\n",
    "1. Static exceptions\r\n",
    "1. `First()` v. `Single()` \r\n",
    "1. `Any()` v. `Count()`\r\n",
    "1. `Semaphore` v. `ManualResetEvent` v. Channels\r\n",
    "1. `Wait()` v. `GetAwaiter()`\r\n",
    "1. `Task` v. `ValueTask`"
   ]
  },
  {
   "cell_type": "markdown",
   "metadata": {},
   "source": [
    "# Some valuable Analyzers\r\n",
    "\r\n",
    "1. Microsoft.CodeAnalysis.NetAnalyzers\r\n",
    "1. Microsoft.CodeAnalysis.BannedApiAnalyzers\r\n",
    "1. Microsoft.CodeAnalysis.PublicApiAnalyzers\r\n",
    "1. Microsoft.VisualStudio.Threading.Analyzers\r\n",
    "1. AsyncFixer\r\n",
    "1. StyleCop.Analyzers\r\n",
    "\r\n",
    "## EditorConfig Extension for Visual Studio"
   ]
  },
  {
   "cell_type": "markdown",
   "metadata": {},
   "source": [
    "# This file - `https://aka.ms/2021_DEVINT_CS` 👀"
   ]
  }
 ],
 "metadata": {
  "kernelspec": {
   "display_name": ".NET (C#)",
   "language": "C#",
   "name": ".net-csharp"
  },
  "language_info": {
   "file_extension": ".cs",
   "mimetype": "text/x-csharp",
   "name": "C#",
   "pygments_lexer": "csharp",
   "version": "9.0"
  }
 },
 "nbformat": 4,
 "nbformat_minor": 2
}